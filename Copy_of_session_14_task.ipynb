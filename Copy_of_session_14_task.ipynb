{
  "nbformat": 4,
  "nbformat_minor": 0,
  "metadata": {
    "colab": {
      "provenance": [],
      "include_colab_link": true
    },
    "kernelspec": {
      "name": "python3",
      "display_name": "Python 3"
    },
    "language_info": {
      "name": "python"
    }
  },
  "cells": [
    {
      "cell_type": "markdown",
      "metadata": {
        "id": "view-in-github",
        "colab_type": "text"
      },
      "source": [
        "<a href=\"https://colab.research.google.com/github/testgithubritkaif/numpy/blob/main/Copy_of_session_14_task.ipynb\" target=\"_parent\"><img src=\"https://colab.research.google.com/assets/colab-badge.svg\" alt=\"Open In Colab\"/></a>"
      ]
    },
    {
      "cell_type": "markdown",
      "source": [
        "###`Q-1:` Find the nearest element in the array to a given integer.\n",
        "```\n",
        "Ex:-\n",
        "a=23 and array - [10 17 24 31 38 45 52 59].\n",
        "Nearest element is 24\n",
        "```\n",
        "Hint: Read about this function `argmin()`"
      ],
      "metadata": {
        "id": "1uamk9vAix0o"
      }
    },
    {
      "cell_type": "code",
      "source": [
        "import numpy as np\n",
        "a = 23\n",
        "arr =np.array([10, 17, 24, 31, 38, 45, 52 ,59])\n",
        "Nearest_element = arr[np.argmin(np.abs(arr-a))]\n",
        "print(f\"the Nearest_element is : {Nearest_element}\")\n",
        "\n",
        "\n",
        "Nearest_element_max = arr[np.argmax(np.abs(arr-a))]\n",
        "print(f\"the Nearest_element is : {Nearest_element_max}\")\n"
      ],
      "metadata": {
        "id": "ddkpbpR6iySZ",
        "outputId": "e4d2c69f-e798-4d3d-bc2e-2b520a2d29ed",
        "colab": {
          "base_uri": "https://localhost:8080/"
        }
      },
      "execution_count": null,
      "outputs": [
        {
          "output_type": "stream",
          "name": "stdout",
          "text": [
            "the Nearest_element is : 24\n",
            "the Nearest_element is : 59\n"
          ]
        }
      ]
    },
    {
      "cell_type": "markdown",
      "source": [
        "###`Q-2:` Replace multiples of 3 or 5 as 0 in the given array.\n",
        "```\n",
        "arr=[1 2 3 4 5 6 7 9]\n",
        "\n",
        "result-> [1 2 0 4 0 0 7 0]\n",
        "```"
      ],
      "metadata": {
        "id": "Y1QkHyPpizyp"
      }
    },
    {
      "cell_type": "code",
      "source": [
        "arr=np.array([1, 2 ,3 ,4 ,5 ,6 ,7, 9])\n",
        "replace = np.where((arr % 3 == 0) | (arr % 5 == 0),0,arr)\n",
        "print(f\"the resulrt is {replace}\")"
      ],
      "metadata": {
        "id": "JjtxMlhWi25l",
        "outputId": "52df5108-5482-447b-ec89-7eb0c950b137",
        "colab": {
          "base_uri": "https://localhost:8080/"
        }
      },
      "execution_count": null,
      "outputs": [
        {
          "output_type": "stream",
          "name": "stdout",
          "text": [
            "the resulrt is [1 2 0 4 0 0 7 0]\n"
          ]
        }
      ]
    },
    {
      "cell_type": "markdown",
      "source": [
        "###`Q-3:` Use Fancy Indexing.\n",
        "1. Double the array elements at  given indexes\n",
        "```\n",
        "arr = np.arrange(10)\n",
        "indexes = [0,3,4,9]\n",
        "```\n",
        "Result -> `[ 0  1  2  6  8  5  6  7  8 18]`\n",
        "\n",
        "2. Using a given array make a different array as in below example\n",
        "```\n",
        "array = [1,2,3]\n",
        "result array -> [1 1 1 2 2 2 3 3 3]\n",
        "```\n",
        "* Internal-repetion should be as length of the array.\n",
        "\n",
        "Hint:\n",
        "```\n",
        "if a is an array\n",
        "a = [2,4]\n",
        "a[[1,1,0,1]] will result in-> [4 4 2 4]\n",
        "```"
      ],
      "metadata": {
        "id": "Pi_dZSwTi4OI"
      }
    },
    {
      "cell_type": "code",
      "source": [
        "# code 1\n",
        "arr = np.arange(10)\n",
        "indexe = [0,3,4,9]\n",
        "arr[indexe]*=2\n",
        "print(f\"the result is code 1 {arr}\")\n",
        "\n",
        "\n",
        "# code 2\n",
        "array =np.array([1,2,3])\n",
        "result_array = np.repeat(array ,len(array))\n",
        "print(f\"the result is code 2 {result_array}\")\n",
        "\n",
        "# code 3\n",
        "a = np.array([2,4])\n",
        "a[[1,1,0,1]]\n",
        "\n",
        "\n",
        "\n",
        "\n"
      ],
      "metadata": {
        "id": "SHYuyuovi66N",
        "outputId": "f575f4a9-1df1-4f58-de5f-8aaa879afa26",
        "colab": {
          "base_uri": "https://localhost:8080/"
        }
      },
      "execution_count": null,
      "outputs": [
        {
          "output_type": "stream",
          "name": "stdout",
          "text": [
            "the result is code 1 [ 0  1  2  6  8  5  6  7  8 18]\n",
            "the result is code 2 [1 1 1 2 2 2 3 3 3]\n"
          ]
        },
        {
          "output_type": "execute_result",
          "data": {
            "text/plain": [
              "array([4, 4, 2, 4])"
            ]
          },
          "metadata": {},
          "execution_count": 18
        }
      ]
    },
    {
      "cell_type": "markdown",
      "source": [
        "###`Q-4:` Your are given an array which is havig some nan value. You job is to fill those nan values with most common element in the array.\n",
        "```\n",
        "arr=np.array([[1,2,np.nan],[4,2,6],[np.nan,np.nan,5]])\n",
        "\n",
        "```"
      ],
      "metadata": {
        "id": "UDehG0tFi89i"
      }
    },
    {
      "cell_type": "code",
      "source": [
        "# code here\n",
        "import pandas as pd\n",
        "arr=np.array([[1,2,np.nan],[4,2,6],[np.nan,np.nan,5]])\n",
        "flat_arr = arr.flatten()\n",
        "most_common_array = pd.Series(flat_arr).mode()\n",
        "arr[np.isnan(arr)] = most_common_element\n",
        "print(f\"the result is {arr}\")"
      ],
      "metadata": {
        "id": "YH13A6w9jEyu",
        "outputId": "284ea3cb-1d53-4b30-86c7-73adbf821b01",
        "colab": {
          "base_uri": "https://localhost:8080/"
        }
      },
      "execution_count": null,
      "outputs": [
        {
          "output_type": "stream",
          "name": "stdout",
          "text": [
            "the result is [[1. 2. 2.]\n",
            " [4. 2. 6.]\n",
            " [2. 2. 5.]]\n"
          ]
        }
      ]
    },
    {
      "cell_type": "markdown",
      "source": [
        "### `Q-5:` Write a NumPy program\n",
        "\n",
        "- to find the missing data in a given array. Return a boolean matrix.\n",
        "- also try to fill those missing values with 0. For that, you can use `np.nan_to_num(a)`\n",
        "\n",
        "```python\n",
        "import numpy as np\n",
        "\n",
        "np.array([[3, 2, np.nan, 1],\n",
        "          [10, 12, 10, 9],\n",
        "          [5, np.nan, 1, np.nan]])\n",
        "```"
      ],
      "metadata": {
        "id": "Tk2JnioUjJ_t"
      }
    },
    {
      "cell_type": "code",
      "source": [
        "import numpy as np\n",
        "\n",
        "arr1 =np.array([[3, 2, np.nan, 1],\n",
        "          [10, 12, 10, 9],\n",
        "          [5, np.nan, 1, np.nan]])\n",
        "missing_data = np.isnan(arr1)\n",
        "print(f\"Missing data:\\n{missing_data}\")\n",
        "arr1_filled = np.nan_to_num(arr1)\n",
        "print(f\"Array with missing values filled with 0:\\n{arr1_filled}\")\n"
      ],
      "metadata": {
        "id": "nPEBTQJ_jJZe",
        "outputId": "417b1cc9-520c-4f1b-b903-e48c04150147",
        "colab": {
          "base_uri": "https://localhost:8080/"
        }
      },
      "execution_count": null,
      "outputs": [
        {
          "output_type": "stream",
          "name": "stdout",
          "text": [
            "Missing data:\n",
            "[[False False  True False]\n",
            " [False False False False]\n",
            " [False  True False  True]]\n",
            "Array with missing values filled with 0:\n",
            "[[ 3.  2.  0.  1.]\n",
            " [10. 12. 10.  9.]\n",
            " [ 5.  0.  1.  0.]]\n"
          ]
        }
      ]
    },
    {
      "cell_type": "markdown",
      "source": [
        "###`Q-6:` Given two arrays, X and Y, construct the Cauchy matrix C.\n",
        "`Cij =1/(xi - yj)`\n",
        "\n",
        "http://en.wikipedia.org/wiki/Cauchy_matrix\n",
        "```\n",
        "x = numpy.array([1,2,3,4]).reshape((-1, 1)\n",
        "y = numpy.array([5,6,7])\n",
        "```"
      ],
      "metadata": {
        "id": "FFUnZtG7jNBH"
      }
    },
    {
      "cell_type": "code",
      "source": [
        "# code here\n",
        "import numpy as np\n",
        "x = np.array([1,2,3,4]).reshape((-1, 1))\n",
        "y = np.array([5,6,7])\n",
        "cij = 1/(x - y)\n",
        "print(f\"the result is {cij}\")"
      ],
      "metadata": {
        "id": "pQXHa38TjVEh",
        "colab": {
          "base_uri": "https://localhost:8080/"
        },
        "outputId": "dc2ad738-5f44-4de3-fd93-77d8a0fe75b4"
      },
      "execution_count": 13,
      "outputs": [
        {
          "output_type": "stream",
          "name": "stdout",
          "text": [
            "the result is [[-0.25       -0.2        -0.16666667]\n",
            " [-0.33333333 -0.25       -0.2       ]\n",
            " [-0.5        -0.33333333 -0.25      ]\n",
            " [-1.         -0.5        -0.33333333]]\n"
          ]
        }
      ]
    },
    {
      "cell_type": "markdown",
      "source": [
        "###`Q-7:` Plot this below equation.\n",
        "\n",
        "$$\\large y = \\frac{e^x - e^{-x}}{e^x + e^{-x}}$$\n",
        "\n",
        "**Note: This equation is called tanh activation function. In deep learning, many times this function is used. If you find some difference between the sigmoid function and this tanh function, note that to your notebook.**"
      ],
      "metadata": {
        "id": "EbkHZCF1jWNc"
      }
    },
    {
      "cell_type": "markdown",
      "source": [
        "Both sigmoid and hyperbolic tangent (tanh) are S-shaped activation functions used in neural networks, but they have important differences\n",
        "Sigmoid : Outputs values between 0 and 1 . Not zero-centered (all outputs are positive) . Maximum gradient is 0.25 (at x=0) . formula = 1 / (1 + e⁻ˣ)                                                              Tanh:Outputs values between -1 and 1 . Zero-centered (outputs can be positive or negative) . Maximum gradient is 1.0 . formula (eˣ - e⁻ˣ)/(eˣ + e⁻ˣ) = 2σ(2x) - 1"
      ],
      "metadata": {
        "id": "5d3yrHnunrdo"
      }
    },
    {
      "cell_type": "code",
      "source": [
        "# code here\n",
        "import numpy as np\n",
        "import matplotlib.pyplot as plt\n",
        "x = np.linspace(-10, 10, 10)\n",
        "y = np.exp(x) - np.exp(-x)/np.exp(x) + np.exp(-x)\n",
        "print(f\"the result {y} \")\n",
        "plt.plot(x,y)\n",
        "plt.xlabel('x')\n",
        "plt.ylabel('y')\n",
        "plt.title('Tanh Activation Function')\n",
        "plt.show()\n",
        "\n"
      ],
      "metadata": {
        "id": "n6OcN--FjbLC",
        "colab": {
          "base_uri": "https://localhost:8080/",
          "height": 526
        },
        "outputId": "d62f90ba-d2df-4399-f27c-f621b43542f5"
      },
      "execution_count": 23,
      "outputs": [
        {
          "output_type": "stream",
          "name": "stdout",
          "text": [
            "the result [-4.85143169e+08 -5.69521283e+06 -6.66518206e+04 -7.57704695e+02\n",
            " -5.86088959e+00  3.25855674e+00  2.80660263e+01  2.58674481e+02\n",
            "  2.38696498e+03  2.20264658e+04] \n"
          ]
        },
        {
          "output_type": "display_data",
          "data": {
            "text/plain": [
              "<Figure size 640x480 with 1 Axes>"
            ],
            "image/png": "[encoded data removed]"
          },
          "metadata": {}
        }
      ]
    },
    {
      "cell_type": "markdown",
      "source": [
        "### `Q-8:` Plot the below equation.\n",
        "\n",
        "$$\\large y = \\sqrt{36 - (x - 4)^2} + 2$$\n",
        "\n",
        "The range of x should be between -2 to 10. $x ∈ [-2, 10]$\n",
        "\n"
      ],
      "metadata": {
        "id": "xujS-pu4jciH"
      }
    },
    {
      "cell_type": "markdown",
      "source": [],
      "metadata": {
        "id": "B4Vb3TCfcr3q"
      }
    },
    {
      "cell_type": "code",
      "source": [
        "# code here\n",
        "x = np.linspace(-10, 10, 10)\n",
        "y = np.sqrt(36 - (x - 4)**2) + 2\n",
        "print(f\"the result {y} \")\n",
        "plt.plot(x,y)\n",
        "plt.xlabel('x')\n",
        "plt.ylabel('y')\n"
      ],
      "metadata": {
        "id": "7CagwKP_jhIQ",
        "colab": {
          "base_uri": "https://localhost:8080/",
          "height": 539
        },
        "outputId": "96090710-be7e-4055-ee18-fb31d49a2a1a"
      },
      "execution_count": 27,
      "outputs": [
        {
          "output_type": "stream",
          "name": "stdout",
          "text": [
            "the result [       nan        nan        nan        nan 5.14269681 7.25873758\n",
            " 7.96284794 7.79484658 6.66137266 2.        ] \n"
          ]
        },
        {
          "output_type": "stream",
          "name": "stderr",
          "text": [
            "<ipython-input-27-c3f32b352036>:3: RuntimeWarning: invalid value encountered in sqrt\n",
            "  y = np.sqrt(36 - (x - 4)**2) + 2\n"
          ]
        },
        {
          "output_type": "execute_result",
          "data": {
            "text/plain": [
              "Text(0, 0.5, 'y')"
            ]
          },
          "metadata": {},
          "execution_count": 27
        },
        {
          "output_type": "display_data",
          "data": {
            "text/plain": [
              "<Figure size 640x480 with 1 Axes>"
            ],
            "image/png": "[encoded data removed]"
          },
          "metadata": {}
        }
      ]
    },
    {
      "cell_type": "markdown",
      "source": [
        "### `Q-9:` Write a program implement Boradcasting Rule to check if two array can be added or not.\n",
        "Given tuples of shapes.\n",
        "```\n",
        "shape of a- (3,2,2)\n",
        "shape of b- (2,2)\n",
        "\n",
        "check_broadcast(a, b) -> return Boolean (True if can broadcasted, False other wise.)\n",
        "```"
      ],
      "metadata": {
        "id": "Jf14pxCfjiX1"
      }
    },
    {
      "cell_type": "code",
      "source": [
        "# code here\n",
        "def check_bordcasting(shape_a , shape_b):\n",
        "\n",
        "  try:\n",
        "    np.broadcast_shapes(shape_a , shape_b)\n",
        "    return True\n",
        "  except ValueError:\n",
        "    return False\n",
        "shape_a = (3,2,2)\n",
        "shape_b = (2,2)\n",
        "if check_bordcasting(shape_a , shape_b):\n",
        "  print(\"Array be broadcasted\")\n",
        "else:\n",
        "  print(\"Array not be broadcasted\")\n"
      ],
      "metadata": {
        "id": "qSKGG0Yajlc8",
        "colab": {
          "base_uri": "https://localhost:8080/"
        },
        "outputId": "ab976846-47a5-4257-fb6d-0a9171465eec"
      },
      "execution_count": 41,
      "outputs": [
        {
          "output_type": "stream",
          "name": "stdout",
          "text": [
            "Array be broadcasted\n"
          ]
        }
      ]
    },
    {
      "cell_type": "code",
      "source": [],
      "metadata": {
        "id": "O963GouUs2bj"
      },
      "execution_count": null,
      "outputs": []
    }
  ]
}