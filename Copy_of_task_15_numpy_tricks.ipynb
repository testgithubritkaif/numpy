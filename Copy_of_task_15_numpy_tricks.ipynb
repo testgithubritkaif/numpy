{
  "nbformat": 4,
  "nbformat_minor": 0,
  "metadata": {
    "colab": {
      "provenance": [],
      "include_colab_link": true
    },
    "kernelspec": {
      "name": "python3",
      "display_name": "Python 3"
    },
    "language_info": {
      "name": "python"
    }
  },
  "cells": [
    {
      "cell_type": "markdown",
      "metadata": {
        "id": "view-in-github",
        "colab_type": "text"
      },
      "source": [
        "<a href=\"https://colab.research.google.com/github/testgithubritkaif/numpy/blob/main/Copy_of_task_15_numpy_tricks.ipynb\" target=\"_parent\"><img src=\"https://colab.research.google.com/assets/colab-badge.svg\" alt=\"Open In Colab\"/></a>"
      ]
    },
    {
      "cell_type": "markdown",
      "source": [
        "###`Q-1:` Create a random 3x4 matrix with value between 0-100. And perform below tasks\n",
        "\n",
        "    i. Sort this matrix. np.sort()\n",
        "    ii. Sort this matrix based on values in 2nd column.\n",
        "    iii. Sort this matrix based on max value in each row.\n",
        "    iv. Sort based on elements value.\n"
      ],
      "metadata": {
        "id": "J88qfqQEk_sT"
      }
    },
    {
      "cell_type": "markdown",
      "source": [
        "See examples:\n",
        "```\n",
        "arr =\n",
        "    [[92 90 74]\n",
        "    [ 6 63 93]\n",
        "    [15 93 96]\n",
        "    [70 60 48]]\n",
        "```\n",
        "```\n",
        "i. np.sort\n",
        "[[74 90 92]\n",
        " [ 6 63 93]\n",
        " [15 93 96]\n",
        " [48 60 70]]\n",
        "\n",
        "ii. based on 2nd column\n",
        "[[70 60 48]\n",
        " [ 6 63 93]\n",
        " [92 90 74]\n",
        " [15 93 96]]\n",
        "\n",
        "iii. based on row max- ascending\n",
        "[[15 93 96]\n",
        " [ 6 63 93]\n",
        " [92 90 74]\n",
        " [70 60 48]]\n",
        "\n",
        "iv. based on elements value\n",
        "[[ 6 15 48]\n",
        " [60 63 70]\n",
        " [74 90 92]\n",
        " [93 93 96]]\n",
        "\n",
        "```"
      ],
      "metadata": {
        "id": "xpOwOdhqlE9R"
      }
    },
    {
      "cell_type": "code",
      "source": [
        "# code here\n",
        "#  Sort this matrix. np.sort()\n",
        "import numpy as np\n",
        "arr = np.random.randint(0,100,(4,3))\n",
        "print(np.sort(arr))\n",
        "# ii. Sort this matrix based on values in 2nd column.\n",
        "print()\n",
        "print(arr[arr[:,2].argsort()])\n",
        "\n",
        "print()\n",
        "# iii. Sort this matrix based on max value in each row.\n",
        "print(arr[arr.max(axis=1).argsort()])\n",
        "\n",
        "print()\n",
        "\n",
        "# iv. Sort based on elements value.\n",
        "print(np.sort(arr.flatten()).reshape(arr.shape))\n",
        "\n"
      ],
      "metadata": {
        "id": "Auy-guUwlALv",
        "outputId": "e20704bc-10dc-4fc5-ce26-8df690640969",
        "colab": {
          "base_uri": "https://localhost:8080/"
        }
      },
      "execution_count": null,
      "outputs": [
        {
          "output_type": "stream",
          "name": "stdout",
          "text": [
            "[[15 22 77]\n",
            " [19 21 77]\n",
            " [60 74 91]\n",
            " [53 91 92]]\n",
            "\n",
            "[[77 21 19]\n",
            " [15 77 22]\n",
            " [74 60 91]\n",
            " [53 92 91]]\n",
            "\n",
            "[[15 77 22]\n",
            " [77 21 19]\n",
            " [74 60 91]\n",
            " [53 92 91]]\n",
            "\n",
            "[[15 19 21]\n",
            " [22 53 60]\n",
            " [74 77 77]\n",
            " [91 91 92]]\n"
          ]
        }
      ]
    },
    {
      "cell_type": "markdown",
      "source": [
        "###`Q-2:` There is an array of marks of 5 students in 4 subjects. Further you are asked to perform below task.\n",
        "    i. Add marks every student of an extra subject in the same array.\n",
        "    ii. Add two new students marks in respective 5 subjects.(one subject added in above task)\n",
        "    iii. Add extra column with sum of all subjects(5-subjects) marks\n",
        "    iv. Sort the array(non-ascending order) on total marks column--one added in above task. Show top 2 rows.\n",
        "\n",
        "Note: Change dimension of arrays during concatenation or appending if required."
      ],
      "metadata": {
        "id": "Jx_I3gx9lBay"
      }
    },
    {
      "cell_type": "markdown",
      "source": [
        "Given Array-\n",
        "```\n",
        "marks = [[13, 10,  9, 33],\n",
        "       [63, 46, 90, 42],\n",
        "       [39, 76, 13, 29],\n",
        "       [82,  9, 29, 78],\n",
        "       [67, 61, 59, 36]]\n",
        "\n",
        "extra_subject = [41, 87, 72, 36, 92]\n",
        "#Two extra students record-\n",
        "rec1 = [77, 83, 98, 95, 89]\n",
        "rec2 = [92, 71, 52, 61, 53]\n",
        "```"
      ],
      "metadata": {
        "id": "lXF-CE6ylNIw"
      }
    },
    {
      "cell_type": "code",
      "source": [
        "# code here\n",
        "marks = np.array( [[13, 10,  9, 33],\n",
        "       [63, 46, 90, 42],\n",
        "       [39, 76, 13, 29],\n",
        "       [82,  9, 29, 78],\n",
        "       [67, 61, 59, 36]])\n",
        "marks\n",
        "# i. Add marks every student of an extra subject in the same array.\n",
        "extra_subject = np.array([41, 87, 72, 36, 92]).reshape(5,1)\n",
        "marks =  np.hstack((marks,extra_subject))\n",
        "print(marks)\n",
        "print()\n",
        "\n",
        "\n",
        "# ii. Add two new students marks in respective 5 subjects.(one subject added in above task)\n",
        "rec1 = np.array([77, 83, 98, 95, 89]).reshape(1,5)\n",
        "rec2 = np.array([92, 71, 52, 61, 53]).reshape(1,5)\n",
        "marks = np.vstack((rec1,marks,rec2))\n",
        "print(marks)\n",
        "\n",
        "print()\n",
        "\n",
        "# iii. Add extra column with sum of all subjects(5-subjects) marks\n",
        "sum_col = marks.sum(axis=1).reshape(7,1)\n",
        "marks =(np.hstack((marks,sum_col)))\n",
        "print(marks)\n",
        "print()\n",
        "\n",
        "# iv. Sort the array(non-ascending order) on total marks column--one added in above task. Show top 2 rows\n",
        "total_marks = marks[marks[:,-1].argsort()[::-1]]\n",
        "print(total_marks[:2])\n",
        "\n",
        "\n",
        "\n"
      ],
      "metadata": {
        "id": "7YKsWO2olMkq",
        "outputId": "c0fedf54-7fdc-4195-e074-b903d3fc87eb",
        "colab": {
          "base_uri": "https://localhost:8080/"
        }
      },
      "execution_count": null,
      "outputs": [
        {
          "output_type": "stream",
          "name": "stdout",
          "text": [
            "[[13 10  9 33 41]\n",
            " [63 46 90 42 87]\n",
            " [39 76 13 29 72]\n",
            " [82  9 29 78 36]\n",
            " [67 61 59 36 92]]\n",
            "\n",
            "[[77 83 98 95 89]\n",
            " [13 10  9 33 41]\n",
            " [63 46 90 42 87]\n",
            " [39 76 13 29 72]\n",
            " [82  9 29 78 36]\n",
            " [67 61 59 36 92]\n",
            " [92 71 52 61 53]]\n",
            "\n",
            "[[ 77  83  98  95  89 442]\n",
            " [ 13  10   9  33  41 106]\n",
            " [ 63  46  90  42  87 328]\n",
            " [ 39  76  13  29  72 229]\n",
            " [ 82   9  29  78  36 234]\n",
            " [ 67  61  59  36  92 315]\n",
            " [ 92  71  52  61  53 329]]\n",
            "\n",
            "[[ 77  83  98  95  89 442]\n",
            " [ 92  71  52  61  53 329]]\n"
          ]
        }
      ]
    },
    {
      "cell_type": "markdown",
      "source": [
        "###`Q-3:` Find unique arrays from a 2D array column wise and row wise.\n",
        "```\n",
        "arr = np.array([[1,2,3,3,1,1],\n",
        "                [0,9,1,2,8,8],\n",
        "                [1,2,3,8,8,8],\n",
        "                [1,2,3,3,1,1]])\n",
        "```\n",
        "Expected Result-\n",
        "```\n",
        "Row Wise\n",
        "[[0 9 1 2 8 8]\n",
        " [1 2 3 3 1 1]\n",
        " [1 2 3 8 8 8]]\n",
        "\n",
        "Col Wise\n",
        "[[1 1 2 3 3]\n",
        " [0 8 9 1 2]\n",
        " [1 8 2 3 8]\n",
        " [1 1 2 3 3]]\n",
        "```"
      ],
      "metadata": {
        "id": "VmOyK_8klRqR"
      }
    },
    {
      "cell_type": "code",
      "source": [
        "# code here\n",
        "arr = np.array([[1,2,3,3,1,1],\n",
        "                [0,9,1,2,8,8],\n",
        "                [1,2,3,8,8,8],\n",
        "                [1,2,3,3,1,1]])\n",
        "print(f\"THis is rose wise unique{np.unique(arr,axis=0)}\")\n",
        "print(f\"THis is column wise unique{np.unique(arr,axis=1)}\")"
      ],
      "metadata": {
        "id": "LJl10VQrlU5q",
        "outputId": "d89aa8ce-3ff7-4369-b5c0-6e2af86add7b",
        "colab": {
          "base_uri": "https://localhost:8080/"
        }
      },
      "execution_count": null,
      "outputs": [
        {
          "output_type": "stream",
          "name": "stdout",
          "text": [
            "THis is rose wise unique[[0 9 1 2 8 8]\n",
            " [1 2 3 3 1 1]\n",
            " [1 2 3 8 8 8]]\n",
            "THis is column wise unique[[1 1 2 3 3]\n",
            " [0 8 9 1 2]\n",
            " [1 8 2 3 8]\n",
            " [1 1 2 3 3]]\n"
          ]
        }
      ]
    },
    {
      "cell_type": "markdown",
      "source": [
        "###`Q-4:` Flip given 2-D array along both axes at the same time."
      ],
      "metadata": {
        "id": "RaXwVkywlWY2"
      }
    },
    {
      "cell_type": "code",
      "source": [
        "# code here\n",
        "print(np.flip(arr))"
      ],
      "metadata": {
        "id": "mN7-4G8Kleeq",
        "outputId": "ec1184ad-bf89-4007-cbcf-bba9fdff818a",
        "colab": {
          "base_uri": "https://localhost:8080/"
        }
      },
      "execution_count": null,
      "outputs": [
        {
          "output_type": "stream",
          "name": "stdout",
          "text": [
            "[[1 1 3 3 2 1]\n",
            " [8 8 8 3 2 1]\n",
            " [8 8 2 1 9 0]\n",
            " [1 1 3 3 2 1]]\n"
          ]
        }
      ]
    },
    {
      "cell_type": "markdown",
      "source": [
        "### `Q-5:` Get row numbers of NumPy array having element larger than X.\n",
        "```\n",
        "arr = [[1,2,3,4,5],\n",
        "      [10,-3,30,4,5],\n",
        "      [3,2,5,-4,5],\n",
        "      [9,7,3,6,5]]\n",
        "\n",
        "X = 6\n",
        "```"
      ],
      "metadata": {
        "id": "X0S7BUNTlfoq"
      }
    },
    {
      "cell_type": "code",
      "source": [
        "# code here\n",
        "arr = np.array([[1,2,3,4,5],\n",
        "       [10,-3,30,4,5],\n",
        "       [3,2,5,-4,5],\n",
        "       [9,7,3,6,5]])\n",
        "x = 6\n",
        "print(np.where(arr>x))"
      ],
      "metadata": {
        "id": "bi8jRmWhlkBU",
        "outputId": "82308747-c2cd-4b88-aa98-0e4b726fe7c0",
        "colab": {
          "base_uri": "https://localhost:8080/"
        }
      },
      "execution_count": null,
      "outputs": [
        {
          "output_type": "stream",
          "name": "stdout",
          "text": [
            "(array([1, 1, 3, 3]), array([0, 2, 0, 1]))\n"
          ]
        }
      ]
    },
    {
      "cell_type": "markdown",
      "source": [
        "### `Q-6:` How to convert an array of arrays into a flat 1d array?\n"
      ],
      "metadata": {
        "id": "DSCQMo4mlnDG"
      }
    },
    {
      "cell_type": "code",
      "source": [
        "# These arrays are given.\n",
        "arr1 = np.arange(3)\n",
        "arr2 = np.arange(3,7)\n",
        "arr3 = np.arange(7,10)"
      ],
      "metadata": {
        "id": "QZhSkUT2lsJW"
      },
      "execution_count": null,
      "outputs": []
    },
    {
      "cell_type": "code",
      "source": [
        "# code here\n",
        "print(np.concatenate((arr1,arr2,arr3)))"
      ],
      "metadata": {
        "id": "f42OXNrFls0I",
        "outputId": "b6260539-2193-46f1-945d-53d746735201",
        "colab": {
          "base_uri": "https://localhost:8080/"
        }
      },
      "execution_count": null,
      "outputs": [
        {
          "output_type": "stream",
          "name": "stdout",
          "text": [
            "[0 1 2 3 4 5 6 7 8 9]\n"
          ]
        }
      ]
    },
    {
      "cell_type": "markdown",
      "source": [
        "### `Q-7:` You are given a array. You have to find the minimum and maximum array element and remove that from the array.\n",
        "\n",
        "```python\n",
        "import numpy as np\n",
        "\n",
        "np.random.seed(400)\n",
        "arr = np.random.randint(100, 1000, 200).reshape((1, 200))\n",
        "```"
      ],
      "metadata": {
        "id": "A1J4oOVCluqO"
      }
    },
    {
      "cell_type": "code",
      "source": [
        "# code here\n",
        "import numpy as np\n",
        "np.random.seed(400)\n",
        "arr = np.random.randint(100, 1000, 200).reshape((1, 200))\n",
        "max_arr = np.max(arr)\n",
        "print(max_arr)\n",
        "min_arr = np.min(arr)\n",
        "print(min_arr)\n",
        "arr = arr[0][np.logical_and(arr[0]!=max_arr, arr[0]!=min_arr)].reshape(1,-1)\n",
        "print(arr)\n",
        "\n"
      ],
      "metadata": {
        "id": "c6kmgtUJlybZ",
        "outputId": "e22d3c2b-671c-46ed-e3fb-c37d388d749d",
        "colab": {
          "base_uri": "https://localhost:8080/"
        }
      },
      "execution_count": 3,
      "outputs": [
        {
          "output_type": "stream",
          "name": "stdout",
          "text": [
            "998\n",
            "103\n",
            "[[448 563 418 240 507 362 345 236 719 291 298 639 458 387 262 613 267 882\n",
            "  181 425 790 635 889 818 872 967 277 470 336 920 917 295 557 830 506 385\n",
            "  353 975 592 997 137 340 222 215 472 459 617 649 935 956 914 932 645 952\n",
            "  921 490 527 972 278 307 840 958 246 449 251 957 627 920 824 356 825 173\n",
            "  323 372 960 710 464 244 782 763 635 436 774 171 469 178 458 624 211 771\n",
            "  270 308 231 952 514 699 702 433 900 373 318 265 503 320 230 324 922 967\n",
            "  620 743 527 117 566 804 123 946 587 227 853 757 944 328 855 930 325 729\n",
            "  426 514 296 879 575 936 705 209 191 743 510 513 628 559 658 528 395 525\n",
            "  922 136 496 225 895 975 263 908 420 711 800 976 786 235 930 859 618 226\n",
            "  695 460 218 483 490 803 621 453 193 607 677 637 728 724 534 748 291 194\n",
            "  761 875 687 569 228 482 781 554 654 739 885 197 266 228 892 207 883 588]]\n"
          ]
        }
      ]
    },
    {
      "cell_type": "markdown",
      "source": [
        "### `Q-8:` You are given an arrays. You have to limit this array's elements between 100 to 200. $arr ∈ [100, 700]$. So replace those values accordingly with the minimum and maximum value. Then sort the array and perform the cumulative sum of that array."
      ],
      "metadata": {
        "id": "0dHN1sdnl0Jy"
      }
    },
    {
      "cell_type": "code",
      "source": [
        "# code here\n",
        "np.random.seed(400)\n",
        "arr = np.random.randint(100, 1000, 200).reshape((1, 200))\n",
        "arr[(arr < 100)] = 100\n",
        "arr[(arr > 200)] = 20\n",
        "print(np.cumsum(np.sort(arr)))"
      ],
      "metadata": {
        "id": "a3YF_E-Hlza7",
        "outputId": "4f4a1f44-d655-47cc-d2b7-68b30d0ac1f8",
        "colab": {
          "base_uri": "https://localhost:8080/"
        }
      },
      "execution_count": null,
      "outputs": [
        {
          "output_type": "stream",
          "name": "stdout",
          "text": [
            "[  103   220   343   479   616   787   960  1138  1319  1510  1703  1897\n",
            "  2094  2294  2494  2694  2894  3094  3294  3494  3694  3894  4094  4294\n",
            "  4494  4694  4894  5094  5294  5494  5694  5894  6094  6294  6494  6694\n",
            "  6894  7094  7294  7494  7694  7894  8094  8294  8494  8694  8894  9094\n",
            "  9294  9494  9694  9894 10094 10294 10494 10694 10894 11094 11294 11494\n",
            " 11694 11894 12094 12294 12494 12694 12894 13094 13294 13494 13694 13894\n",
            " 14094 14294 14494 14694 14894 15094 15294 15494 15694 15894 16094 16294\n",
            " 16494 16694 16894 17094 17294 17494 17694 17894 18094 18294 18494 18694\n",
            " 18894 19094 19294 19494 19694 19894 20094 20294 20494 20694 20894 21094\n",
            " 21294 21494 21694 21894 22094 22294 22494 22694 22894 23094 23294 23494\n",
            " 23694 23894 24094 24294 24494 24694 24894 25094 25294 25494 25694 25894\n",
            " 26094 26294 26494 26694 26894 27094 27294 27494 27694 27894 28094 28294\n",
            " 28494 28694 28894 29094 29294 29494 29694 29894 30094 30294 30494 30694\n",
            " 30894 31094 31294 31494 31694 31894 32094 32294 32494 32694 32894 33094\n",
            " 33294 33494 33694 33894 34094 34294 34494 34694 34894 35094 35294 35494\n",
            " 35694 35894 36094 36294 36494 36694 36894 37094 37294 37494 37694 37894\n",
            " 38094 38294 38494 38694 38894 39094 39294 39494]\n"
          ]
        }
      ]
    },
    {
      "cell_type": "markdown",
      "source": [
        "### `Q-9:` You are given a array ($arr ∈ [0, 1]$). First you have round off the elements upto 3 decimal places and compare that\n",
        "- 0th percentile == minimum value of the array\n",
        "- 100th percentile == maximum value of the array\n",
        "- also find the difference betwen 51th percenile and 50th percentile values"
      ],
      "metadata": {
        "id": "cXj90Susl4-I"
      }
    },
    {
      "cell_type": "code",
      "source": [
        "# code here\n",
        "np.random.seed(400)\n",
        "arr = np.random.rand(200).reshape((1, 200))\n",
        "arr = np.round(arr,3)\n",
        "print(np.percentile(arr,0))\n",
        "print(np.percentile(arr,1))\n"
      ],
      "metadata": {
        "id": "SgBEHodgl7Lo",
        "colab": {
          "base_uri": "https://localhost:8080/"
        },
        "outputId": "be6ad470-e5aa-4d53-a897-53cfb9e7b58a"
      },
      "execution_count": 5,
      "outputs": [
        {
          "output_type": "stream",
          "name": "stdout",
          "text": [
            "0.001\n",
            "0.01299\n"
          ]
        }
      ]
    },
    {
      "cell_type": "code",
      "source": [],
      "metadata": {
        "id": "84PihlNNLofW"
      },
      "execution_count": null,
      "outputs": []
    }
  ]
}